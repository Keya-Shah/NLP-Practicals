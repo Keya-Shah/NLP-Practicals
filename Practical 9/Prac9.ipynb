{
 "cells": [
  {
   "cell_type": "markdown",
   "id": "54109c37",
   "metadata": {},
   "source": [
    "# Prac9 Implement Text processing with neural network"
   ]
  },
  {
   "cell_type": "code",
   "execution_count": 1,
   "id": "8a4c6d8f",
   "metadata": {},
   "outputs": [],
   "source": [
    "import numpy as np\n",
    "import tensorflow_datasets as tfds\n",
    "import tensorflow as tf\n",
    "tfds.disable_progress_bar()\n",
    "\n",
    "import matplotlib.pyplot as plt"
   ]
  },
  {
   "cell_type": "code",
   "execution_count": 2,
   "id": "e7caae49",
   "metadata": {},
   "outputs": [],
   "source": [
    "def plot_graphs(history, metric):\n",
    "  plt.plot(history.history[metric])\n",
    "  plt.plot(history.history['val_'+metric], '')\n",
    "  plt.xlabel(\"Epochs\")\n",
    "  plt.ylabel(metric)\n",
    "  plt.legend([metric, 'val_'+metric])"
   ]
  },
  {
   "cell_type": "code",
   "execution_count": 3,
   "id": "e7eeea5d",
   "metadata": {},
   "outputs": [
    {
     "name": "stdout",
     "output_type": "stream",
     "text": [
      "\u001b[1mDownloading and preparing dataset Unknown size (download: Unknown size, generated: Unknown size, total: Unknown size) to C:\\Users\\DELL\\tensorflow_datasets\\imdb_reviews\\plain_text\\1.0.0...\u001b[0m\n",
      "\u001b[1mDataset imdb_reviews downloaded and prepared to C:\\Users\\DELL\\tensorflow_datasets\\imdb_reviews\\plain_text\\1.0.0. Subsequent calls will reuse this data.\u001b[0m\n"
     ]
    },
    {
     "data": {
      "text/plain": [
       "(TensorSpec(shape=(), dtype=tf.string, name=None),\n",
       " TensorSpec(shape=(), dtype=tf.int64, name=None))"
      ]
     },
     "execution_count": 3,
     "metadata": {},
     "output_type": "execute_result"
    }
   ],
   "source": [
    "dataset, info = tfds.load('imdb_reviews', with_info=True,\n",
    "                          as_supervised=True)\n",
    "train_dataset, test_dataset = dataset['train'], dataset['test']\n",
    "\n",
    "train_dataset.element_spec"
   ]
  },
  {
   "cell_type": "code",
   "execution_count": 4,
   "id": "e6651f30",
   "metadata": {},
   "outputs": [
    {
     "name": "stdout",
     "output_type": "stream",
     "text": [
      "text:  b\"This was an absolutely terrible movie. Don't be lured in by Christopher Walken or Michael Ironside. Both are great actors, but this must simply be their worst role in history. Even their great acting could not redeem this movie's ridiculous storyline. This movie is an early nineties US propaganda piece. The most pathetic scenes were those when the Columbian rebels were making their cases for revolutions. Maria Conchita Alonso appeared phony, and her pseudo-love affair with Walken was nothing but a pathetic emotional plug in a movie that was devoid of any real meaning. I am disappointed that there are movies like this, ruining actor's like Christopher Walken's good name. I could barely sit through it.\"\n",
      "label:  0\n"
     ]
    }
   ],
   "source": [
    "for example, label in train_dataset.take(1):\n",
    "  print('text: ', example.numpy())\n",
    "  print('label: ', label.numpy())"
   ]
  },
  {
   "cell_type": "code",
   "execution_count": 5,
   "id": "170f22db",
   "metadata": {},
   "outputs": [],
   "source": [
    "BUFFER_SIZE = 10000\n",
    "BATCH_SIZE = 64\n",
    "\n",
    "train_dataset = train_dataset.shuffle(BUFFER_SIZE).batch(BATCH_SIZE).prefetch(tf.data.AUTOTUNE)\n",
    "test_dataset = test_dataset.batch(BATCH_SIZE).prefetch(tf.data.AUTOTUNE)"
   ]
  },
  {
   "cell_type": "code",
   "execution_count": 6,
   "id": "becf871d",
   "metadata": {},
   "outputs": [
    {
     "name": "stdout",
     "output_type": "stream",
     "text": [
      "texts:  [b'To me A Matter of Life and Death is just that- simply the best film ever made.<br /><br />From beginning to end it oozes class. It is stimulating, thought provoking, a mirror to the post war world and the relations between peoples.<br /><br />The cinematography is simply stunning and the effect of mixing monochrome and Technicolour to accent the different worlds works seamlessly. The characters and plot development are near perfect and the attention to detail promotes a thoroughly believable fantasy.<br /><br />No matter how many times I watch the film - and I have watched it a lot - it never fails to touch me. It makes me smile, it makes me laugh, it makes me think, it makes me cry. It is as fresh today as it was in 1946.<br /><br />If I were allowed just one film to keep and watch again A Matter of Life and Death would be that film.'\n",
      " b'Fairly funny Jim Carrey vehicle that has him as a News reporter who temporarily gets the power of God and wrecks havoc. Carrey is back in familiar ground here and looks to be having a good time, and Jennifer Aniston as his put upon girlfriend is also charming and affecting. The story is predictible to the extreme but the cast (including Morgan Freeman as \"God\") is great and makes the film worth catching. GRADE: B'\n",
      " b'French production in which leading film directors from 11 countries were invited to create 11-minute short films conveying their reflections on the events of September 11.<br /><br />The film segments vary widely in content and quality. Two allude to U.S. complicity in terrorist acts (in Chile against Allende, who died on September 11, 1973, depicted in the segment by British director Ken Loach; and in Palestine by U.S.-backed Israelis, shown in the segment from Egyptian director Youssef Chahine). Two more recall other destructive acts (a Palestinian suicide bombing in Tel Aviv, shot by Israeli director Amos Gitan; the Japanese \"holy war\" against the west in WW II, by Shohei Imamura).<br /><br />Ironies abound in several stories. Shadows that darken the New York City apartment of a grieving old man suddenly disappear as the World Trade towers telescope to the ground in Sean Penn\\'s piece, bringing the man momentary joy. But in this bright light he can finally see that his wife is really gone. In Mira Nair\\'s film, based on a real incident, a missing young man, also in New York City, the son of a Pakistani family, is first presumed to be a fugitive terrorist, but later he proves to a hero who sacrificed himself trying to save others in the towers.<br /><br />There are poignant moments dotted throughout. Loach has his exiled Chilean man quote St. Augustine, to the effect that hope is built of anger and courage: anger at the way things are, courage to change them. Imamura tells us that there is no such thing as a holy war. Samira Makhmalbaf shows a teacher with her very young Afghan schoolchildren, exiled in Iran, trying to tell them about the events that have just transpired in New York. But they are understandably more impressed with a major event in their refugee camp, where two men have fallen into a deep well, one killed, the other sustaining a broken leg. This is comprehensible tragedy on a grand scale for the 6 year olds. <br /><br />Idrissa Ouedraogo, from Burkina Faso, creates a drama in which the son of an ailing woman spots Osama bin Laden in their village and gathers his buddies to help capture the fugitive terrorist, in order to get the $25 million U. S. reward. He tells his friends not to let any of the adults know their plans, for the older folks would merely waste the money on cars and cigarettes, while he plans to help his mother and others who are sick and destitute.<br /><br />It is Mexican director Alejandro Gonzalez Inarritu (maker of \"Amores Perros\") who provides by far the most powerful and chilling segment, one that, for the most part, shows only a darkened screen with audio tape loops of chanting and voices and occasional thudding sounds. Brief visual flashes gradually permit us to see bodies falling from the high floors of the towers, and it dawns on us that the thuds are these bodies hitting the ground. The sequence ends with elegiac orchestral music and a still shot, bearing a phrase first shown only in Arabic, then with a translation added: \"Does God\\'s light guide us or blind us?\" (In various languages with English subtitles) Grade: 8/10 (B+). (Seen on 10/31/04). If you\\'d like to read more of my reviews, send me a message for directions to my websites.']\n",
      "\n",
      "labels:  [1 1 1]\n"
     ]
    }
   ],
   "source": [
    "for example, label in train_dataset.take(1):\n",
    "  print('texts: ', example.numpy()[:3])\n",
    "  print()\n",
    "  print('labels: ', label.numpy()[:3])"
   ]
  },
  {
   "cell_type": "code",
   "execution_count": 7,
   "id": "4b4c5548",
   "metadata": {},
   "outputs": [
    {
     "data": {
      "text/plain": [
       "array(['', '[UNK]', 'the', 'and', 'a', 'of', 'to', 'is', 'in', 'it', 'i',\n",
       "       'this', 'that', 'br', 'was', 'as', 'for', 'with', 'movie', 'but'],\n",
       "      dtype='<U14')"
      ]
     },
     "execution_count": 7,
     "metadata": {},
     "output_type": "execute_result"
    }
   ],
   "source": [
    "VOCAB_SIZE = 1000\n",
    "encoder = tf.keras.layers.TextVectorization(\n",
    "    max_tokens=VOCAB_SIZE)\n",
    "encoder.adapt(train_dataset.map(lambda text, label: text))\n",
    "\n",
    "vocab = np.array(encoder.get_vocabulary())\n",
    "vocab[:20]"
   ]
  },
  {
   "cell_type": "code",
   "execution_count": 8,
   "id": "2673c70d",
   "metadata": {},
   "outputs": [
    {
     "data": {
      "text/plain": [
       "array([[  6,  70,   4, ...,   0,   0,   0],\n",
       "       [977, 162,   1, ...,   0,   0,   0],\n",
       "       [792, 361,   8, ...,   6,  56,   1]], dtype=int64)"
      ]
     },
     "execution_count": 8,
     "metadata": {},
     "output_type": "execute_result"
    }
   ],
   "source": [
    "encoded_example = encoder(example)[:3].numpy()\n",
    "encoded_example"
   ]
  },
  {
   "cell_type": "code",
   "execution_count": 9,
   "id": "8e82c451",
   "metadata": {},
   "outputs": [
    {
     "name": "stdout",
     "output_type": "stream",
     "text": [
      "Original:  b'To me A Matter of Life and Death is just that- simply the best film ever made.<br /><br />From beginning to end it oozes class. It is stimulating, thought provoking, a mirror to the post war world and the relations between peoples.<br /><br />The cinematography is simply stunning and the effect of mixing monochrome and Technicolour to accent the different worlds works seamlessly. The characters and plot development are near perfect and the attention to detail promotes a thoroughly believable fantasy.<br /><br />No matter how many times I watch the film - and I have watched it a lot - it never fails to touch me. It makes me smile, it makes me laugh, it makes me think, it makes me cry. It is as fresh today as it was in 1946.<br /><br />If I were allowed just one film to keep and watch again A Matter of Life and Death would be that film.'\n",
      "Round-trip:  to me a matter of life and death is just that simply the best film ever [UNK] br from beginning to end it [UNK] class it is [UNK] thought [UNK] a [UNK] to the [UNK] war world and the [UNK] between [UNK] br the cinematography is simply [UNK] and the effect of [UNK] [UNK] and [UNK] to [UNK] the different [UNK] works [UNK] the characters and plot development are near perfect and the attention to [UNK] [UNK] a [UNK] believable [UNK] br no matter how many times i watch the film and i have watched it a lot it never fails to [UNK] me it makes me [UNK] it makes me laugh it makes me think it makes me [UNK] it is as [UNK] today as it was in [UNK] br if i were [UNK] just one film to keep and watch again a matter of life and death would be that film                                                                                                                                                                                                                                                                                                                                                                                                                      \n",
      "\n",
      "Original:  b'Fairly funny Jim Carrey vehicle that has him as a News reporter who temporarily gets the power of God and wrecks havoc. Carrey is back in familiar ground here and looks to be having a good time, and Jennifer Aniston as his put upon girlfriend is also charming and affecting. The story is predictible to the extreme but the cast (including Morgan Freeman as \"God\") is great and makes the film worth catching. GRADE: B'\n",
      "Round-trip:  fairly funny [UNK] [UNK] [UNK] that has him as a [UNK] [UNK] who [UNK] gets the power of god and [UNK] [UNK] [UNK] is back in [UNK] [UNK] here and looks to be having a good time and [UNK] [UNK] as his put upon [UNK] is also [UNK] and [UNK] the story is [UNK] to the [UNK] but the cast including [UNK] [UNK] as god is great and makes the film worth [UNK] [UNK] b                                                                                                                                                                                                                                                                                                                                                                                                                                                                                                    \n",
      "\n",
      "Original:  b'French production in which leading film directors from 11 countries were invited to create 11-minute short films conveying their reflections on the events of September 11.<br /><br />The film segments vary widely in content and quality. Two allude to U.S. complicity in terrorist acts (in Chile against Allende, who died on September 11, 1973, depicted in the segment by British director Ken Loach; and in Palestine by U.S.-backed Israelis, shown in the segment from Egyptian director Youssef Chahine). Two more recall other destructive acts (a Palestinian suicide bombing in Tel Aviv, shot by Israeli director Amos Gitan; the Japanese \"holy war\" against the west in WW II, by Shohei Imamura).<br /><br />Ironies abound in several stories. Shadows that darken the New York City apartment of a grieving old man suddenly disappear as the World Trade towers telescope to the ground in Sean Penn\\'s piece, bringing the man momentary joy. But in this bright light he can finally see that his wife is really gone. In Mira Nair\\'s film, based on a real incident, a missing young man, also in New York City, the son of a Pakistani family, is first presumed to be a fugitive terrorist, but later he proves to a hero who sacrificed himself trying to save others in the towers.<br /><br />There are poignant moments dotted throughout. Loach has his exiled Chilean man quote St. Augustine, to the effect that hope is built of anger and courage: anger at the way things are, courage to change them. Imamura tells us that there is no such thing as a holy war. Samira Makhmalbaf shows a teacher with her very young Afghan schoolchildren, exiled in Iran, trying to tell them about the events that have just transpired in New York. But they are understandably more impressed with a major event in their refugee camp, where two men have fallen into a deep well, one killed, the other sustaining a broken leg. This is comprehensible tragedy on a grand scale for the 6 year olds. <br /><br />Idrissa Ouedraogo, from Burkina Faso, creates a drama in which the son of an ailing woman spots Osama bin Laden in their village and gathers his buddies to help capture the fugitive terrorist, in order to get the $25 million U. S. reward. He tells his friends not to let any of the adults know their plans, for the older folks would merely waste the money on cars and cigarettes, while he plans to help his mother and others who are sick and destitute.<br /><br />It is Mexican director Alejandro Gonzalez Inarritu (maker of \"Amores Perros\") who provides by far the most powerful and chilling segment, one that, for the most part, shows only a darkened screen with audio tape loops of chanting and voices and occasional thudding sounds. Brief visual flashes gradually permit us to see bodies falling from the high floors of the towers, and it dawns on us that the thuds are these bodies hitting the ground. The sequence ends with elegiac orchestral music and a still shot, bearing a phrase first shown only in Arabic, then with a translation added: \"Does God\\'s light guide us or blind us?\" (In various languages with English subtitles) Grade: 8/10 (B+). (Seen on 10/31/04). If you\\'d like to read more of my reviews, send me a message for directions to my websites.'\n",
      "Round-trip:  french production in which leading film directors from [UNK] [UNK] were [UNK] to create [UNK] short films [UNK] their [UNK] on the events of [UNK] [UNK] br the film [UNK] [UNK] [UNK] in [UNK] and quality two [UNK] to us [UNK] in [UNK] [UNK] in [UNK] against [UNK] who [UNK] on [UNK] [UNK] [UNK] [UNK] in the [UNK] by british director [UNK] [UNK] and in [UNK] by [UNK] [UNK] shown in the [UNK] from [UNK] director [UNK] [UNK] two more [UNK] other [UNK] [UNK] a [UNK] [UNK] [UNK] in [UNK] [UNK] shot by [UNK] director [UNK] [UNK] the japanese [UNK] war against the [UNK] in [UNK] [UNK] by [UNK] [UNK] br [UNK] [UNK] in several stories [UNK] that [UNK] the new york city [UNK] of a [UNK] old man [UNK] [UNK] as the world [UNK] [UNK] [UNK] to the [UNK] in [UNK] [UNK] piece [UNK] the man [UNK] [UNK] but in this [UNK] light he can finally see that his wife is really gone in [UNK] [UNK] film based on a real [UNK] a missing young man also in new york city the son of a [UNK] family is first [UNK] to be a [UNK] [UNK] but later he [UNK] to a hero who [UNK] himself trying to save others in the [UNK] br there are [UNK] moments [UNK] throughout [UNK] has his [UNK] [UNK] man [UNK] [UNK] [UNK] to the effect that hope is [UNK] of [UNK] and [UNK] [UNK] at the way things are [UNK] to change them [UNK] tells us that there is no such thing as a [UNK] war [UNK] [UNK] shows a [UNK] with her very young [UNK] [UNK] [UNK] in [UNK] trying to tell them about the events that have just [UNK] in new york but they are [UNK] more [UNK] with a major [UNK] in their [UNK] [UNK] where two men have [UNK] into a deep well one killed the other [UNK] a [UNK] [UNK] this is [UNK] [UNK] on a [UNK] [UNK] for the [UNK] year [UNK] br br [UNK] [UNK] from [UNK] [UNK] [UNK] a drama in which the son of an [UNK] woman [UNK] [UNK] [UNK] [UNK] in their [UNK] and [UNK] his [UNK] to help [UNK] the [UNK] [UNK] in order to get the [UNK] [UNK] [UNK] [UNK] [UNK] he tells his friends not to let any of the [UNK] know their [UNK] for the older [UNK] would [UNK] waste the money on [UNK] and [UNK] while he [UNK] to help his mother and others who are [UNK] and [UNK] br it is [UNK] director [UNK] [UNK] [UNK] [UNK] of [UNK] [UNK] who [UNK] by far the most powerful and [UNK] [UNK] one that for the most part shows only a [UNK] screen with [UNK] [UNK] [UNK] of [UNK] and [UNK] and [UNK] [UNK] sounds [UNK] [UNK] [UNK] [UNK] [UNK] us to see [UNK] [UNK] from the high [UNK] of the [UNK] and it [UNK] on us that the [UNK] are these [UNK] [UNK] the [UNK] the sequence ends with [UNK] [UNK] music and a still shot [UNK] a [UNK] first shown only in [UNK] then with a [UNK] [UNK] does [UNK] light [UNK] us or [UNK] us in various [UNK] with english [UNK] [UNK] [UNK] b seen on [UNK] if [UNK] like to read more of my reviews [UNK] me a message for [UNK] to my [UNK]\n",
      "\n"
     ]
    }
   ],
   "source": [
    "for n in range(3):\n",
    "  print(\"Original: \", example[n].numpy())\n",
    "  print(\"Round-trip: \", \" \".join(vocab[encoded_example[n]]))\n",
    "  print()"
   ]
  },
  {
   "cell_type": "code",
   "execution_count": 10,
   "id": "09e7a036",
   "metadata": {},
   "outputs": [],
   "source": [
    "model = tf.keras.Sequential([\n",
    "    encoder,\n",
    "    tf.keras.layers.Embedding(\n",
    "        input_dim=len(encoder.get_vocabulary()),\n",
    "        output_dim=64,\n",
    "        # Use masking to handle the variable sequence lengths\n",
    "        mask_zero=True),\n",
    "    tf.keras.layers.Bidirectional(tf.keras.layers.LSTM(64)),\n",
    "    tf.keras.layers.Dense(64, activation='relu'),\n",
    "    tf.keras.layers.Dense(1)\n",
    "])"
   ]
  },
  {
   "cell_type": "code",
   "execution_count": 11,
   "id": "f1862881",
   "metadata": {},
   "outputs": [
    {
     "name": "stdout",
     "output_type": "stream",
     "text": [
      "[False, True, True, True, True]\n"
     ]
    }
   ],
   "source": [
    "print([layer.supports_masking for layer in model.layers])"
   ]
  },
  {
   "cell_type": "code",
   "execution_count": 12,
   "id": "6ff9ea9c",
   "metadata": {},
   "outputs": [
    {
     "name": "stdout",
     "output_type": "stream",
     "text": [
      "[0.00033818]\n"
     ]
    }
   ],
   "source": [
    "sample_text = ('The movie was cool. The animation and the graphics '\n",
    "               'were out of this world. I would recommend this movie.')\n",
    "predictions = model.predict(np.array([sample_text]))\n",
    "print(predictions[0])"
   ]
  },
  {
   "cell_type": "code",
   "execution_count": 13,
   "id": "b5a06131",
   "metadata": {},
   "outputs": [
    {
     "name": "stdout",
     "output_type": "stream",
     "text": [
      "[0.00033818]\n"
     ]
    }
   ],
   "source": [
    "# predict on a sample text with padding\n",
    "\n",
    "padding = \"the \" * 2000\n",
    "predictions = model.predict(np.array([sample_text, padding]))\n",
    "print(predictions[0]) "
   ]
  },
  {
   "cell_type": "code",
   "execution_count": 14,
   "id": "ec44ea5c",
   "metadata": {},
   "outputs": [],
   "source": [
    "model.compile(loss=tf.keras.losses.BinaryCrossentropy(from_logits=True),\n",
    "              optimizer=tf.keras.optimizers.Adam(1e-4),\n",
    "              metrics=['accuracy'])"
   ]
  },
  {
   "cell_type": "code",
   "execution_count": 16,
   "id": "7492570d",
   "metadata": {},
   "outputs": [
    {
     "name": "stdout",
     "output_type": "stream",
     "text": [
      "Epoch 1/3\n",
      "391/391 [==============================] - 610s 2s/step - loss: 0.6497 - accuracy: 0.5618 - val_loss: 0.5436 - val_accuracy: 0.6161\n",
      "Epoch 2/3\n",
      "391/391 [==============================] - 582s 1s/step - loss: 0.4532 - accuracy: 0.7845 - val_loss: 0.4077 - val_accuracy: 0.8156\n",
      "Epoch 3/3\n",
      "391/391 [==============================] - 561s 1s/step - loss: 0.3851 - accuracy: 0.8272 - val_loss: 0.3837 - val_accuracy: 0.8432\n",
      "391/391 [==============================] - 86s 219ms/step - loss: 0.3621 - accuracy: 0.8479\n"
     ]
    }
   ],
   "source": [
    "history = model.fit(train_dataset, epochs=3,\n",
    "                    validation_data=test_dataset,\n",
    "                    validation_steps=30)\n",
    "\n",
    "test_loss, test_acc = model.evaluate(test_dataset)"
   ]
  },
  {
   "cell_type": "code",
   "execution_count": 17,
   "id": "56bee188",
   "metadata": {},
   "outputs": [
    {
     "name": "stdout",
     "output_type": "stream",
     "text": [
      "Test Loss: 0.3621436655521393\n",
      "Test Accuracy: 0.8479200005531311\n"
     ]
    }
   ],
   "source": [
    "print('Test Loss:', test_loss)\n",
    "print('Test Accuracy:', test_acc)"
   ]
  },
  {
   "cell_type": "code",
   "execution_count": null,
   "id": "1987efc7",
   "metadata": {},
   "outputs": [],
   "source": []
  }
 ],
 "metadata": {
  "kernelspec": {
   "display_name": "Python 3",
   "language": "python",
   "name": "python3"
  },
  "language_info": {
   "codemirror_mode": {
    "name": "ipython",
    "version": 3
   },
   "file_extension": ".py",
   "mimetype": "text/x-python",
   "name": "python",
   "nbconvert_exporter": "python",
   "pygments_lexer": "ipython3",
   "version": "3.8.8"
  }
 },
 "nbformat": 4,
 "nbformat_minor": 5
}
