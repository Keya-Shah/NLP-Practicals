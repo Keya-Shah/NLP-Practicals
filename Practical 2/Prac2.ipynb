{
 "cells": [
  {
   "cell_type": "markdown",
   "id": "21836c4d",
   "metadata": {},
   "source": [
    "# Prac2 Implement N-gram language model"
   ]
  },
  {
   "cell_type": "code",
   "execution_count": 1,
   "id": "62101075",
   "metadata": {},
   "outputs": [],
   "source": [
    "import re"
   ]
  },
  {
   "cell_type": "code",
   "execution_count": 2,
   "id": "fa89823e",
   "metadata": {},
   "outputs": [],
   "source": [
    "def N_Grams(text,n): \n",
    "    # split sentences into tokens\n",
    "    tokens=re.split(\"\\\\s+\",text)\n",
    "    ngrams=[] \n",
    "    # collect the n-grams\n",
    "    for i in range(len(tokens)-n+1):\n",
    "     temp=[tokens[j] for j in range(i,i+n)]\n",
    "     ngrams.append(\" \".join(temp)) \n",
    "    return ngrams"
   ]
  },
  {
   "cell_type": "code",
   "execution_count": 3,
   "id": "72582439",
   "metadata": {},
   "outputs": [],
   "source": [
    "text1=\"the quick brown fox jumps the lazy dog\";"
   ]
  },
  {
   "cell_type": "code",
   "execution_count": 4,
   "id": "5832124f",
   "metadata": {},
   "outputs": [
    {
     "data": {
      "text/plain": [
       "['the', 'quick', 'brown', 'fox', 'jumps', 'the', 'lazy', 'dog']"
      ]
     },
     "execution_count": 4,
     "metadata": {},
     "output_type": "execute_result"
    }
   ],
   "source": [
    "N_Grams(text1,1)"
   ]
  },
  {
   "cell_type": "code",
   "execution_count": 5,
   "id": "a67b13c3",
   "metadata": {},
   "outputs": [
    {
     "data": {
      "text/plain": [
       "['the quick',\n",
       " 'quick brown',\n",
       " 'brown fox',\n",
       " 'fox jumps',\n",
       " 'jumps the',\n",
       " 'the lazy',\n",
       " 'lazy dog']"
      ]
     },
     "execution_count": 5,
     "metadata": {},
     "output_type": "execute_result"
    }
   ],
   "source": [
    "N_Grams(text1,2)"
   ]
  },
  {
   "cell_type": "code",
   "execution_count": 6,
   "id": "2a7589f7",
   "metadata": {},
   "outputs": [
    {
     "data": {
      "text/plain": [
       "['the quick brown',\n",
       " 'quick brown fox',\n",
       " 'brown fox jumps',\n",
       " 'fox jumps the',\n",
       " 'jumps the lazy',\n",
       " 'the lazy dog']"
      ]
     },
     "execution_count": 6,
     "metadata": {},
     "output_type": "execute_result"
    }
   ],
   "source": [
    "N_Grams(text1,3)"
   ]
  }
 ],
 "metadata": {
  "kernelspec": {
   "display_name": "Python 3",
   "language": "python",
   "name": "python3"
  },
  "language_info": {
   "codemirror_mode": {
    "name": "ipython",
    "version": 3
   },
   "file_extension": ".py",
   "mimetype": "text/x-python",
   "name": "python",
   "nbconvert_exporter": "python",
   "pygments_lexer": "ipython3",
   "version": "3.8.8"
  }
 },
 "nbformat": 4,
 "nbformat_minor": 5
}
